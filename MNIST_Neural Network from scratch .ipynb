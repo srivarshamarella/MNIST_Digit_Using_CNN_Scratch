{
 "cells": [
  {
   "cell_type": "code",
   "execution_count": 1,
   "metadata": {},
   "outputs": [],
   "source": [
    "from sklearn.utils import shuffle\n"
   ]
  },
  {
   "cell_type": "markdown",
   "metadata": {},
   "source": [
    "MNIST contains 70000 images of hand-written digits\n",
    "each 28 * 28 pixels in gryscale with pixel-values from 0 to 255. We could download and preprocess the data ourseleves. \n",
    "\n"
   ]
  },
  {
   "cell_type": "code",
   "execution_count": 2,
   "metadata": {},
   "outputs": [],
   "source": [
    "\n",
    "from sklearn.datasets import fetch_openml \n",
    "X,y  = fetch_openml('mnist_784', version=1, \n",
    "                          return_X_y=True)"
   ]
  },
  {
   "cell_type": "code",
   "execution_count": 3,
   "metadata": {},
   "outputs": [
    {
     "name": "stdout",
     "output_type": "stream",
     "text": [
      "['5' '0' '4' '1' '9' '2' '1' '3' '1' '4' '3' '5' '3' '6']\n",
      "(70000, 784)\n"
     ]
    }
   ],
   "source": [
    "#to normalize the X values to keep it under 0 to 255 \n",
    "X= X/255\n",
    "print(y[:14])\n",
    "print(X.shape)"
   ]
  },
  {
   "cell_type": "code",
   "execution_count": 4,
   "metadata": {},
   "outputs": [
    {
     "name": "stdout",
     "output_type": "stream",
     "text": [
      "[0. 1. 0. ... 0. 0. 0.]\n"
     ]
    }
   ],
   "source": [
    "import numpy as np\n",
    "\n",
    "y_new =np.zeros(y.shape)\n",
    "for i in range(y.shape[0]):\n",
    "    if(y[i]=='0'):\n",
    "        y_new[i]=1\n",
    "print(y_new)\n",
    "y=y_new"
   ]
  },
  {
   "cell_type": "markdown",
   "metadata": {},
   "source": [
    "# Splitting the dataset into training and testing"
   ]
  },
  {
   "cell_type": "code",
   "execution_count": 5,
   "metadata": {},
   "outputs": [
    {
     "name": "stdout",
     "output_type": "stream",
     "text": [
      "Splitting the dataset into training and testing\n",
      "training samples :60000 test samples:10000\n",
      "train X shape: 60000\n",
      "test X shape:10000\n",
      "train y shape: (1, 60000)\n",
      "test y shape:(1, 10000)\n"
     ]
    }
   ],
   "source": [
    "# y contains 1 for ifthe image is 0 or else 0 \n",
    "#for non-zero classes\n",
    "train_length = 60000\n",
    "test_length = X.shape[0]-train_length\n",
    "print(\"Splitting the dataset into training and testing\")\n",
    "print(\"training samples :\"+str(train_length)+\" test samples:\"+str(test_length))\n",
    "X_train , X_test = X[:train_length].T,X[train_length:].T\n",
    "print(\"train X shape: \"+str(X_train.shape[1])+\"\\ntest X shape:\"+str(X_test.shape[1]))\n",
    "y_train,y_test = y[:train_length].reshape(1,train_length),y[train_length:].reshape(1,test_length)\n",
    "print(\"train y shape: \"+str(y_train.shape)+\"\\ntest y shape:\"+str(y_test.shape))\n"
   ]
  },
  {
   "cell_type": "code",
   "execution_count": 6,
   "metadata": {},
   "outputs": [
    {
     "name": "stdout",
     "output_type": "stream",
     "text": [
      "60000\n"
     ]
    }
   ],
   "source": [
    "np.random.seed(138)\n",
    "shuffle_index = np.random.permutation(train_length)\n",
    "X_train, y_train = X_train[:,shuffle_index], y_train[:,shuffle_index]\n",
    "print(X_train.shape[1])"
   ]
  },
  {
   "cell_type": "markdown",
   "metadata": {},
   "source": [
    "# Viewing data samples from training set"
   ]
  },
  {
   "cell_type": "code",
   "execution_count": 7,
   "metadata": {},
   "outputs": [
    {
     "name": "stdout",
     "output_type": "stream",
     "text": [
      "[0.]\t[1.]\t[0.]\t[0.]\t[0.]\t[0.]\t[0.]\t[0.]\t[0.]\t[0.]\t[0.]\t[0.]\t[0.]\t[0.]\t[0.]\t[0.]\t[0.]\t[0.]\t[0.]\t[0.]\t"
     ]
    },
    {
     "data": {
      "image/png": "[encoded data removed]",
      "text/plain": [
       "<Figure size 432x288 with 20 Axes>"
      ]
     },
     "metadata": {
      "needs_background": "light"
     },
     "output_type": "display_data"
    }
   ],
   "source": [
    "%matplotlib inline\n",
    "import matplotlib \n",
    "import matplotlib.pyplot as plt\n",
    "\n",
    "i=3 \n",
    "nrows= 5\n",
    "ncols=4\n",
    "for i in range(20):\n",
    "    sp = plt.subplot(nrows, ncols, i + 1)\n",
    "    sp.axis('on') # Don't show axes (or gridlines)\n",
    "    plt.imshow(X_train[:,i].reshape(28,28),cmap = matplotlib.cm.binary)\n",
    "    print(y_train[:,i],end=\"\\t\")\n",
    "    plt.axis(\"off\")\n",
    "plt.show()\n",
    "\n"
   ]
  },
  {
   "cell_type": "markdown",
   "metadata": {},
   "source": [
    "# A Single neuron (aka logistic regression )\n",
    "#Single class classification\n",
    "As we are considering only '0' class the target variable is either 0 if it is not zero in image or 1 if is a zero in image"
   ]
  },
  {
   "cell_type": "markdown",
   "metadata": {},
   "source": [
    "# Forward Propogation: \n",
    "y = sigma(w^T * x +b)\n",
    "signmoid fuction: \n",
    "sigma(z) = (1 / (1+e^-z))"
   ]
  },
  {
   "cell_type": "code",
   "execution_count": 8,
   "metadata": {},
   "outputs": [],
   "source": [
    "#  the s here is the Activation function value\n",
    "def sigmoid(z): \n",
    "    s= 1/(1 + np.exp(-z))\n",
    "    return s "
   ]
  },
  {
   "cell_type": "markdown",
   "metadata": {},
   "source": [
    "The Z value for the sigmoid function can be computed by \n",
    "\n",
    "np.matmul(W.T, X)+b \n",
    "\n",
    "hence z value is not a scalar but a vector\n",
    "We’ll use cross-entropy for our cost function. \n",
    "The formula for a single training example is: \n",
    "\n",
    "L(y,ŷ)=−ylog(ŷ)−(1−y)log(1−ŷ)\n",
    "\n",
    "Averaging over a training set of m examples we then have:\n",
    "\n",
    "L(Y,Ŷ)=−1/m∑i=1m(y^(i)log(ŷ^(i))+(1−y^(i))log(1−ŷ^(i)))"
   ]
  },
  {
   "cell_type": "code",
   "execution_count": 9,
   "metadata": {},
   "outputs": [],
   "source": [
    "def compute_loss(Y,Y_hat):\n",
    "    m= Y.shape[1]\n",
    "    L = -(1./m) * ( np.sum( np.multiply(np.log(Y_hat),Y) ) + np.sum( np.multiply(np.log(1-Y_hat),(1-Y)) ) )\n",
    "    return L"
   ]
  },
  {
   "cell_type": "markdown",
   "metadata": {},
   "source": [
    "Finally we can substitute into the chain rule to find:\n",
    "∂L/∂wj=∂L/∂ŷ*∂ŷ/∂z*∂z/∂wj  ---> (ŷ−y)wj [Scalar quantity]\n",
    "\n",
    "1)∂L/∂w=1/m*X(ŷ−y)^T --->[Vector quantity]\n",
    "2)∂L/∂b=1/m*∑i=1Tom(ŷ(i)−y(i)) --->[Vector quantity]\n",
    "\n",
    "i’ll label these gradients according to their denominators, as dW and db. So for backpropagation we’ll compute \n",
    "\n",
    "dW = (1/m) * np.matmul(X, (A-Y).T) -->[∂L/∂w]and \n",
    "\n",
    "db = (1/m) * np.sum(A-Y, axis=1, keepdims=True)[∂L/∂w]"
   ]
  },
  {
   "cell_type": "code",
   "execution_count": 34,
   "metadata": {},
   "outputs": [
    {
     "name": "stdout",
     "output_type": "stream",
     "text": [
      "60000 60000 \n",
      "n_x(first layer) 60000 \n",
      "Number of samples:  784\n",
      "bias: [[0.]]\n",
      "Epoch 0 cost:  0.690062639294071\n",
      "Epoch 100 cost:  0.041353631903225475\n",
      "Epoch 200 cost:  0.03582155605411296\n",
      "Epoch 300 cost:  0.03325263912475694\n",
      "Epoch 400 cost:  0.03164906103353909\n",
      "Epoch 500 cost:  0.030507386195851624\n",
      "Epoch 600 cost:  0.029633944733120827\n",
      "Epoch 700 cost:  0.028935287004216412\n",
      "Epoch 800 cost:  0.02835929538826425\n",
      "Epoch 900 cost:  0.027873871059235496\n",
      "Epoch 1000 cost:  0.027457797874105336\n",
      "Epoch 1100 cost:  0.027096307087125685\n",
      "Epoch 1200 cost:  0.026778707482164456\n",
      "Epoch 1300 cost:  0.026497019916701066\n",
      "Epoch 1400 cost:  0.02624514201879309\n",
      "Epoch 1500 cost:  0.026018312084556613\n",
      "Epoch 1600 cost:  0.025812751368771314\n",
      "Epoch 1700 cost:  0.02562541766330368\n",
      "Epoch 1800 cost:  0.02545383095639554\n",
      "Epoch 1900 cost:  0.025295947270018212\n",
      "Final cost: 0.02515146986256394\n"
     ]
    }
   ],
   "source": [
    "learning_rate = 1.0\n",
    "X=X_train\n",
    "y=y_train\n",
    "\n",
    "n_x = X.shape[0]\n",
    "m=X.shape[1]\n",
    "print(X.shape[1],y.shape[1],\"\\nn_x(first layer)\",m\n",
    "      ,\"\\nNumber of samples: \",n_x)\n",
    "W=np.random.randn(n_x,1)*0.01\n",
    "#fill zeros for (rows, cols) -> (1,1) 1row & 1col\n",
    "b=np.zeros((1,1))\n",
    "print(\"bias: \"+str(b))\n",
    "\n",
    "for i in range(2000):\n",
    "    Z=np.matmul(W.T,X)+b\n",
    "    A=sigmoid(Z)\n",
    "    # y_hat = Activation function\n",
    "    cost = compute_loss(y,A)\n",
    "    \n",
    "    dW = (1/m) * np.matmul(X, (A-y).T) \n",
    "    db = (1/m) * np.sum(A-y, axis=1, keepdims=True)\n",
    "    \n",
    "    W = W -learning_rate * dW\n",
    "    b = b -learning_rate * db\n",
    "    \n",
    "    if(i % 100 == 0):\n",
    "        print(\"Epoch\", i, \"cost: \",cost)\n",
    "print(\"Final cost:\", cost)"
   ]
  },
  {
   "cell_type": "code",
   "execution_count": 76,
   "metadata": {},
   "outputs": [
    {
     "name": "stdout",
     "output_type": "stream",
     "text": [
      "[[8979   33]\n",
      " [  41  947]]\n",
      "              precision    recall  f1-score   support\n",
      "\n",
      "       False       1.00      1.00      1.00      9012\n",
      "        True       0.97      0.96      0.96       988\n",
      "\n",
      "    accuracy                           0.99     10000\n",
      "   macro avg       0.98      0.98      0.98     10000\n",
      "weighted avg       0.99      0.99      0.99     10000\n",
      "\n"
     ]
    }
   ],
   "source": [
    "from sklearn.metrics import classification_report, confusion_matrix\n",
    "\n",
    "Z = np.matmul(W.T, X_test) + b\n",
    "A = sigmoid(Z)\n",
    "\n",
    "predictions = (A>.5)[0,:]\n",
    "labels = (y_test == 1)[0,:]\n",
    "\n",
    "print(confusion_matrix(predictions, labels))\n",
    "print(classification_report(predictions, labels))"
   ]
  },
  {
   "cell_type": "markdown",
   "metadata": {},
   "source": [
    "# one layer + hidden layer(64 neurons)\n"
   ]
  },
  {
   "cell_type": "code",
   "execution_count": 32,
   "metadata": {},
   "outputs": [
    {
     "name": "stdout",
     "output_type": "stream",
     "text": [
      "(784, 60000) (1, 60000) \n",
      "n_x(first layer) 60000 \n",
      "Number of samples:  784 \n",
      "Number of hidden neurons: 64\n",
      "Weight1 W1:  (64, 784) \tbias1 b1:  (64, 1) \n",
      "Weight2 W2:  (1, 64) \tbias2 b2 (1, 1)\n",
      "Epoch 0 cost:  1.8781126759697913\n",
      "Epoch 100 cost:  0.09709508030746875\n",
      "Epoch 200 cost:  0.0695532253508136\n",
      "Epoch 300 cost:  0.05814555211646256\n",
      "Epoch 400 cost:  0.051440027421343244\n",
      "Epoch 500 cost:  0.04686013556977249\n",
      "Epoch 600 cost:  0.04346121711728291\n",
      "Epoch 700 cost:  0.04079397593660481\n",
      "Epoch 800 cost:  0.038614945123903906\n",
      "Epoch 900 cost:  0.036785445049844594\n",
      "Epoch 1000 cost:  0.03522227753067303\n",
      "Epoch 1100 cost:  0.03386775964008793\n",
      "Epoch 1200 cost:  0.03267689896107443\n",
      "Epoch 1300 cost:  0.031615142577526664\n",
      "Epoch 1400 cost:  0.030657001499035802\n",
      "Epoch 1500 cost:  0.029783958950155377\n",
      "Epoch 1600 cost:  0.02898258083071087\n",
      "Epoch 1700 cost:  0.02824305224473213\n",
      "Epoch 1800 cost:  0.027557921045011192\n",
      "Epoch 1900 cost:  0.026920985102467678\n",
      "Final cost: 0.026332407319913483\n"
     ]
    }
   ],
   "source": [
    "learning_rate = 0.8\n",
    "X=X_train\n",
    "y=y_train\n",
    "\n",
    "#number of neurons in the first layer\n",
    "n_x = X.shape[0]\n",
    "m=X.shape[1]\n",
    "#number of neurons in the hidden layer\n",
    "n_h=64\n",
    "\n",
    "print(X.shape,y.shape,\"\\nn_x(first layer)\",m\n",
    "      ,\"\\nNumber of samples: \",n_x,\"\\nNumber of hidden neurons:\",n_h)\n",
    "#randn method generates the random values in the form \n",
    "#of matrix . In the below case, as the weights go between the \n",
    "#fully connected layer(60000 samples) and hidden layer (64 neurons)\n",
    "W1=np.random.randn(n_h,n_x)\n",
    "#fill zeros for (rows, cols) -> (1,1) 1row & 1col\n",
    "#in this case (64,1) 64 rows and 1 col\n",
    "b1=np.zeros((n_h,1))\n",
    "#In this case the randn function one row with 64 columns \n",
    "W2 =np.random.randn(1,n_h)\n",
    "#in this case the output of the model should be 1 value \n",
    "# so the output is the 1 row and 1 column\n",
    "b2=np.zeros((1,1))\n",
    "\n",
    "print(\"Weight1 W1: \",W1.shape,\"\\tbias1 b1: \",b1.shape,\"\\nWeight2 W2: \",W2.shape,\"\\tbias2 b2\",b2.shape)\n",
    "\n",
    "for i in range(2000):\n",
    "    Z1=np.matmul(W1,X)+b1\n",
    "    A1=sigmoid(Z1)\n",
    "    Z2=np.matmul(W2,A1)+b2\n",
    "    A2=sigmoid(Z2)\n",
    "    # y_hat = Activation function\n",
    "    cost = compute_loss(y,A2)\n",
    "\n",
    "    dZ2 = A2-y\n",
    "    dW2 = (1./m) * np.matmul(dZ2, A1.T)\n",
    "    db2 = (1./m) * np.sum(dZ2, axis=1, keepdims=True)\n",
    "          \n",
    "    dA1 = np.matmul(W2.T, dZ2)\n",
    "    dZ1 = dA1 * sigmoid(Z1) * (1 - sigmoid(Z1))\n",
    "    dW1 = (1./m) * np.matmul(dZ1, X.T)\n",
    "    db1 = (1./m) * np.sum(dZ1, axis=1, keepdims=True)\n",
    "    W2 = W2 - learning_rate * dW2\n",
    "    b2 = b2 - learning_rate * db2\n",
    "    W1 = W1 - learning_rate * dW1\n",
    "    b1 = b1 - learning_rate * db1\n",
    "\n",
    "    if i % 100 == 0:\n",
    "        print(\"Epoch\", i, \"cost: \", cost)\n",
    "\n",
    "print(\"Final cost:\", cost)"
   ]
  },
  {
   "cell_type": "code",
   "execution_count": 33,
   "metadata": {},
   "outputs": [
    {
     "name": "stdout",
     "output_type": "stream",
     "text": [
      "[[8980   40]\n",
      " [  40  940]]\n",
      "              precision    recall  f1-score   support\n",
      "\n",
      "       False       1.00      1.00      1.00      9020\n",
      "        True       0.96      0.96      0.96       980\n",
      "\n",
      "    accuracy                           0.99     10000\n",
      "   macro avg       0.98      0.98      0.98     10000\n",
      "weighted avg       0.99      0.99      0.99     10000\n",
      "\n"
     ]
    }
   ],
   "source": [
    "Z1 = np.matmul(W1, X_test) + b1\n",
    "A1 = sigmoid(Z1)\n",
    "Z2 = np.matmul(W2, A1) + b2\n",
    "A2 = sigmoid(Z2)\n",
    "\n",
    "predictions = (A2>.5)[0,:]\n",
    "labels = (y_test == 1)[0,:]\n",
    "\n",
    "print(confusion_matrix(predictions, labels))\n",
    "print(classification_report(predictions, labels))"
   ]
  },
  {
   "cell_type": "markdown",
   "metadata": {},
   "source": [
    "# Multi label classification"
   ]
  },
  {
   "cell_type": "code",
   "execution_count": 59,
   "metadata": {},
   "outputs": [],
   "source": [
    "from sklearn.datasets import fetch_openml \n",
    "X,y  = fetch_openml('mnist_784', version=1, \n",
    "                          return_X_y=True)\n",
    "X=X/255"
   ]
  },
  {
   "cell_type": "code",
   "execution_count": 60,
   "metadata": {},
   "outputs": [
    {
     "name": "stdout",
     "output_type": "stream",
     "text": [
      "(70000,)\n"
     ]
    }
   ],
   "source": [
    "digits = 10\n",
    "examples= y.shape[0]\n",
    "print(y.shape)\n",
    "\n",
    "y = y.reshape(1,examples)\n"
   ]
  },
  {
   "cell_type": "code",
   "execution_count": 61,
   "metadata": {},
   "outputs": [
    {
     "name": "stdout",
     "output_type": "stream",
     "text": [
      "y_new shape: (1, 70000, 10)\n",
      "[[5 0 4 ... 4 5 6]]\n"
     ]
    }
   ],
   "source": [
    "#np.eye returns an array of size of digits i.e 10(in this case) \n",
    "#y_new has 1's in the diagonal and 0's elsewhere\n",
    "#y.astype('int32') argument is used to put 1's in the position\n",
    "#according to the y array number in such a way to 70000 samples \n",
    "# each having 1 in the position of the digit depiction\n",
    "y_new = np.eye(digits)[y.astype('int32')]\n",
    "print(\"y_new shape:\",y_new.shape)\n",
    "print(y.astype('int32'))"
   ]
  },
  {
   "cell_type": "code",
   "execution_count": 62,
   "metadata": {},
   "outputs": [
    {
     "name": "stdout",
     "output_type": "stream",
     "text": [
      "y_new: shape  (10, 70000)\n"
     ]
    }
   ],
   "source": [
    "y_new = y_new.T.reshape(digits,examples)\n",
    "print(\"y_new: shape \",y_new.shape)"
   ]
  },
  {
   "cell_type": "markdown",
   "metadata": {},
   "source": [
    "Re-split , rehape and re-shuffle the dataset"
   ]
  },
  {
   "cell_type": "code",
   "execution_count": 63,
   "metadata": {},
   "outputs": [],
   "source": [
    "No_of_samples_train = 60000\n",
    "No_of_samples_test = X.shape[0]-m\n",
    "\n",
    "X_train, X_test = X[:m].T,X[m:].T\n",
    "Y_train,Y_test = y_new[:,:m],y_new[:,m:]\n",
    "\n",
    "shuffle_index = np.random.permutation(m)\n",
    "X_train,Y_train = X_train[:,shuffle_index],Y_train[:,shuffle_index]\n"
   ]
  },
  {
   "cell_type": "code",
   "execution_count": 66,
   "metadata": {},
   "outputs": [
    {
     "data": {
      "image/png": "[encoded data removed]",
      "text/plain": [
       "<Figure size 432x288 with 1 Axes>"
      ]
     },
     "metadata": {
      "needs_background": "light"
     },
     "output_type": "display_data"
    },
    {
     "data": {
      "text/plain": [
       "array([0., 0., 0., 0., 1., 0., 0., 0., 0., 0.])"
      ]
     },
     "execution_count": 66,
     "metadata": {},
     "output_type": "execute_result"
    }
   ],
   "source": [
    "i = 2\n",
    "plt.imshow(X_train[:,i].reshape(28,28), cmap = matplotlib.cm.binary)\n",
    "plt.axis(\"off\")\n",
    "plt.show()\n",
    "Y_train[:,i]"
   ]
  },
  {
   "cell_type": "markdown",
   "metadata": {},
   "source": [
    "Forward Propagation: \n",
    "The final output which is one node will be replaced by 10 nodes \n",
    "because of representation of 10 digits\n",
    "Hence the activation function sigma(z) is calculated for each unit i :e^zi/∑(j=0 to 9)e^zj\n",
    "\n",
    "\n",
    "Cost funtion : has to generalize to more than 2 classes. The general formula for n classes is \n",
    "L(y,ŷ)=−∑(i=0 to n)y(i)*log(ŷi).\n",
    "Averaging over m samples: \n",
    "L(Y,Ŷ)=−1/m∑(j=0 to m)∑(i=0 to n)y^(j)log(ŷ^(j)).\n",
    "    "
   ]
  },
  {
   "cell_type": "code",
   "execution_count": 68,
   "metadata": {},
   "outputs": [],
   "source": [
    "def compute_multiclass_loss(Y,Y_hat):\n",
    "    \n",
    "    L_sum = np.sum(np.multiply(Y,np.log(Y_hat)))\n",
    "    m=Y.shape[1]\n",
    "    L=-(1/m)* L_sum\n",
    "    return L"
   ]
  },
  {
   "cell_type": "code",
   "execution_count": 69,
   "metadata": {},
   "outputs": [
    {
     "name": "stdout",
     "output_type": "stream",
     "text": [
      "Epoch 0 cost:  7.376709570967475\n",
      "Epoch 100 cost:  0.7428469430716562\n",
      "Epoch 200 cost:  0.5557586080703597\n",
      "Epoch 300 cost:  0.4776808468365544\n",
      "Epoch 400 cost:  0.43157507082224356\n",
      "Epoch 500 cost:  0.39986280333244556\n",
      "Epoch 600 cost:  0.37602413331009715\n",
      "Epoch 700 cost:  0.357049495270229\n",
      "Epoch 800 cost:  0.3413467382449301\n",
      "Epoch 900 cost:  0.32796809522028375\n",
      "Epoch 1000 cost:  0.31631003965939253\n",
      "Epoch 1100 cost:  0.30597591202287994\n",
      "Epoch 1200 cost:  0.2966956655821704\n",
      "Epoch 1300 cost:  0.2882768356274176\n",
      "Epoch 1400 cost:  0.2805759948619913\n",
      "Epoch 1500 cost:  0.27348394303519713\n",
      "Epoch 1600 cost:  0.2669165492486281\n",
      "Epoch 1700 cost:  0.2608069381940334\n",
      "Epoch 1800 cost:  0.255099277801469\n",
      "Epoch 1900 cost:  0.24974528614366043\n",
      "Final cost: 0.2447520558080259\n"
     ]
    }
   ],
   "source": [
    "n_x = X_train.shape[0]\n",
    "n_h = 64\n",
    "learning_rate = 1\n",
    "\n",
    "W1 = np.random.randn(n_h, n_x)\n",
    "b1 = np.zeros((n_h, 1))\n",
    "W2 = np.random.randn(digits, n_h)\n",
    "b2 = np.zeros((digits, 1))\n",
    "\n",
    "X = X_train\n",
    "Y = Y_train\n",
    "\n",
    "for i in range(2000):\n",
    "\n",
    "    Z1 = np.matmul(W1,X) + b1\n",
    "    A1 = sigmoid(Z1)\n",
    "    Z2 = np.matmul(W2,A1) + b2\n",
    "    A2 = np.exp(Z2) / np.sum(np.exp(Z2), axis=0)\n",
    "\n",
    "    cost = compute_multiclass_loss(Y, A2)\n",
    "\n",
    "    dZ2 = A2-Y\n",
    "    dW2 = (1./m) * np.matmul(dZ2, A1.T)\n",
    "    db2 = (1./m) * np.sum(dZ2, axis=1, keepdims=True)\n",
    "\n",
    "    dA1 = np.matmul(W2.T, dZ2)\n",
    "    dZ1 = dA1 * sigmoid(Z1) * (1 - sigmoid(Z1))\n",
    "    dW1 = (1./m) * np.matmul(dZ1, X.T)\n",
    "    db1 = (1./m) * np.sum(dZ1, axis=1, keepdims=True)\n",
    "\n",
    "    W2 = W2 - learning_rate * dW2\n",
    "    b2 = b2 - learning_rate * db2\n",
    "    W1 = W1 - learning_rate * dW1\n",
    "    b1 = b1 - learning_rate * db1\n",
    "\n",
    "    if (i % 100 == 0):\n",
    "        print(\"Epoch\", i, \"cost: \", cost)\n",
    "\n",
    "print(\"Final cost:\", cost)"
   ]
  },
  {
   "cell_type": "code",
   "execution_count": 71,
   "metadata": {},
   "outputs": [
    {
     "name": "stdout",
     "output_type": "stream",
     "text": [
      "[[ 952    0   15    1    1   12   15    1    7    4]\n",
      " [   0 1102    2    2    0    2    3    9    9    4]\n",
      " [   5    4  924   22   10    3    7   26   13    2]\n",
      " [   1    6   20  918    2   33    3   10   26   16]\n",
      " [   1    0   13    0  906    9   18   11    8   43]\n",
      " [   8    4   11   26    2  773   14    6   28    6]\n",
      " [   7    5    6    3    9   16  891    0    6    4]\n",
      " [   3    1   14    8    8   12    3  930   12   23]\n",
      " [   3   13   24   24    6   25    3    4  858    9]\n",
      " [   0    0    3    6   38    7    1   31    7  898]]\n",
      "              precision    recall  f1-score   support\n",
      "\n",
      "           0       0.97      0.94      0.96      1008\n",
      "           1       0.97      0.97      0.97      1133\n",
      "           2       0.90      0.91      0.90      1016\n",
      "           3       0.91      0.89      0.90      1035\n",
      "           4       0.92      0.90      0.91      1009\n",
      "           5       0.87      0.88      0.87       878\n",
      "           6       0.93      0.94      0.94       947\n",
      "           7       0.90      0.92      0.91      1014\n",
      "           8       0.88      0.89      0.88       969\n",
      "           9       0.89      0.91      0.90       991\n",
      "\n",
      "    accuracy                           0.92     10000\n",
      "   macro avg       0.91      0.91      0.91     10000\n",
      "weighted avg       0.92      0.92      0.92     10000\n",
      "\n"
     ]
    }
   ],
   "source": [
    "Z1 = np.matmul(W1, X_test) + b1\n",
    "A1 = sigmoid(Z1)\n",
    "Z2 = np.matmul(W2, A1) + b2\n",
    "A2 = np.exp(Z2) / np.sum(np.exp(Z2), axis=0)\n",
    "\n",
    "predictions = np.argmax(A2, axis=0)\n",
    "labels = np.argmax(Y_test, axis=0)\n",
    "\n",
    "print(confusion_matrix(predictions, labels))\n",
    "print(classification_report(predictions, labels))"
   ]
  },
  {
   "cell_type": "markdown",
   "metadata": {},
   "source": [
    "# Optmized model for boosting accuracy- \n",
    "The difference b/w previous and current model is that Mini batch descent is considered by adding a another for loop inside each batch processing for loop. At each pass, the training set is shuffled and batch size is 128. \n",
    "setting the variance of the initialization to 1/n shrinks the weights. Hence while initializing weights dividing by  p.sqrt(1./n_x)\n"
   ]
  },
  {
   "cell_type": "code",
   "execution_count": 72,
   "metadata": {},
   "outputs": [],
   "source": [
    "from sklearn.datasets import fetch_mldata\n",
    "from sklearn.metrics import classification_report, confusion_matrix\n",
    "import numpy as np\n",
    "\n",
    "# import\n",
    "from sklearn.datasets import fetch_openml \n",
    "X,y  = fetch_openml('mnist_784', version=1, \n",
    "                          return_X_y=True)\n",
    "\n",
    "# scale\n",
    "X = X / 255\n",
    "\n",
    "# one-hot encode labels\n",
    "digits = 10\n",
    "examples = y.shape[0]\n",
    "y = y.reshape(1, examples)\n",
    "Y_new = np.eye(digits)[y.astype('int32')]\n",
    "Y_new = Y_new.T.reshape(digits, examples)\n",
    "\n",
    "# split, reshape, shuffle\n",
    "m = 60000\n",
    "m_test = X.shape[0] - m\n",
    "X_train, X_test = X[:m].T, X[m:].T\n",
    "Y_train, Y_test = Y_new[:,:m], Y_new[:,m:]\n",
    "shuffle_index = np.random.permutation(m)\n",
    "X_train, Y_train = X_train[:, shuffle_index], Y_train[:, shuffle_index]"
   ]
  },
  {
   "cell_type": "code",
   "execution_count": 73,
   "metadata": {},
   "outputs": [],
   "source": [
    "def sigmoid(z):\n",
    "    s = 1. / (1. + np.exp(-z))\n",
    "    return s\n",
    "\n",
    "def compute_loss(Y, Y_hat):\n",
    "\n",
    "    L_sum = np.sum(np.multiply(Y, np.log(Y_hat)))\n",
    "    m = Y.shape[1]\n",
    "    L = -(1./m) * L_sum\n",
    "\n",
    "    return L\n",
    "\n",
    "def feed_forward(X, params):\n",
    "\n",
    "    cache = {}\n",
    "\n",
    "    cache[\"Z1\"] = np.matmul(params[\"W1\"], X) + params[\"b1\"]\n",
    "    cache[\"A1\"] = sigmoid(cache[\"Z1\"])\n",
    "    cache[\"Z2\"] = np.matmul(params[\"W2\"], cache[\"A1\"]) + params[\"b2\"]\n",
    "    cache[\"A2\"] = np.exp(cache[\"Z2\"]) / np.sum(np.exp(cache[\"Z2\"]), axis=0)\n",
    "\n",
    "    return cache\n",
    "\n",
    "def back_propagate(X, Y, params, cache):\n",
    "\n",
    "    dZ2 = cache[\"A2\"] - Y\n",
    "    dW2 = (1./m_batch) * np.matmul(dZ2, cache[\"A1\"].T)\n",
    "    db2 = (1./m_batch) * np.sum(dZ2, axis=1, keepdims=True)\n",
    "\n",
    "    dA1 = np.matmul(params[\"W2\"].T, dZ2)\n",
    "    dZ1 = dA1 * sigmoid(cache[\"Z1\"]) * (1 - sigmoid(cache[\"Z1\"]))\n",
    "    dW1 = (1./m_batch) * np.matmul(dZ1, X.T)\n",
    "    db1 = (1./m_batch) * np.sum(dZ1, axis=1, keepdims=True)\n",
    "\n",
    "    grads = {\"dW1\": dW1, \"db1\": db1, \"dW2\": dW2, \"db2\": db2}\n",
    "\n",
    "    return grads"
   ]
  },
  {
   "cell_type": "code",
   "execution_count": 74,
   "metadata": {},
   "outputs": [
    {
     "name": "stdout",
     "output_type": "stream",
     "text": [
      "Epoch 1: training cost = 0.15289188610758328, test cost = 0.15896132708794716\n",
      "Epoch 2: training cost = 0.10085958305622832, test cost = 0.11929251693876221\n",
      "Epoch 3: training cost = 0.09060707621694518, test cost = 0.12329525126099913\n",
      "Epoch 4: training cost = 0.06342341756474529, test cost = 0.09910809479271464\n",
      "Epoch 5: training cost = 0.05982493064697334, test cost = 0.09451228374481334\n",
      "Epoch 6: training cost = 0.04747558007215102, test cost = 0.09014035845674313\n",
      "Epoch 7: training cost = 0.046833023412061935, test cost = 0.09595219893815515\n",
      "Epoch 8: training cost = 0.03534418411103081, test cost = 0.09147580432857733\n",
      "Epoch 9: training cost = 0.03175458971480449, test cost = 0.08557197998648979\n",
      "Done.\n"
     ]
    }
   ],
   "source": [
    "np.random.seed(138)\n",
    "\n",
    "# hyperparameters\n",
    "n_x = X_train.shape[0]\n",
    "n_h = 64\n",
    "learning_rate = 4\n",
    "beta = .9\n",
    "batch_size = 128\n",
    "batches = -(-m // batch_size)\n",
    "\n",
    "# initialization\n",
    "params = { \"W1\": np.random.randn(n_h, n_x) * np.sqrt(1. / n_x),\n",
    "           \"b1\": np.zeros((n_h, 1)) * np.sqrt(1. / n_x),\n",
    "           \"W2\": np.random.randn(digits, n_h) * np.sqrt(1. / n_h),\n",
    "           \"b2\": np.zeros((digits, 1)) * np.sqrt(1. / n_h) }\n",
    "\n",
    "V_dW1 = np.zeros(params[\"W1\"].shape)\n",
    "V_db1 = np.zeros(params[\"b1\"].shape)\n",
    "V_dW2 = np.zeros(params[\"W2\"].shape)\n",
    "V_db2 = np.zeros(params[\"b2\"].shape)\n",
    "\n",
    "# train\n",
    "for i in range(9):\n",
    "\n",
    "    permutation = np.random.permutation(X_train.shape[1])\n",
    "    X_train_shuffled = X_train[:, permutation]\n",
    "    Y_train_shuffled = Y_train[:, permutation]\n",
    "\n",
    "    for j in range(batches):\n",
    "\n",
    "        begin = j * batch_size\n",
    "        end = min(begin + batch_size, X_train.shape[1] - 1)\n",
    "        X = X_train_shuffled[:, begin:end]\n",
    "        Y = Y_train_shuffled[:, begin:end]\n",
    "        m_batch = end - begin\n",
    "\n",
    "        cache = feed_forward(X, params)\n",
    "        grads = back_propagate(X, Y, params, cache)\n",
    "\n",
    "        V_dW1 = (beta * V_dW1 + (1. - beta) * grads[\"dW1\"])\n",
    "        V_db1 = (beta * V_db1 + (1. - beta) * grads[\"db1\"])\n",
    "        V_dW2 = (beta * V_dW2 + (1. - beta) * grads[\"dW2\"])\n",
    "        V_db2 = (beta * V_db2 + (1. - beta) * grads[\"db2\"])\n",
    "\n",
    "        params[\"W1\"] = params[\"W1\"] - learning_rate * V_dW1\n",
    "        params[\"b1\"] = params[\"b1\"] - learning_rate * V_db1\n",
    "        params[\"W2\"] = params[\"W2\"] - learning_rate * V_dW2\n",
    "        params[\"b2\"] = params[\"b2\"] - learning_rate * V_db2\n",
    "\n",
    "    cache = feed_forward(X_train, params)\n",
    "    train_cost = compute_loss(Y_train, cache[\"A2\"])\n",
    "    cache = feed_forward(X_test, params)\n",
    "    test_cost = compute_loss(Y_test, cache[\"A2\"])\n",
    "    print(\"Epoch {}: training cost = {}, test cost = {}\".format(i+1 ,train_cost, test_cost))\n",
    "\n",
    "print(\"Done.\")"
   ]
  },
  {
   "cell_type": "code",
   "execution_count": 75,
   "metadata": {},
   "outputs": [
    {
     "name": "stdout",
     "output_type": "stream",
     "text": [
      "              precision    recall  f1-score   support\n",
      "\n",
      "           0       0.98      0.98      0.98       984\n",
      "           1       0.99      0.99      0.99      1136\n",
      "           2       0.97      0.97      0.97      1036\n",
      "           3       0.99      0.96      0.97      1040\n",
      "           4       0.97      0.98      0.97       975\n",
      "           5       0.96      0.98      0.97       876\n",
      "           6       0.97      0.98      0.98       955\n",
      "           7       0.96      0.98      0.97      1005\n",
      "           8       0.97      0.96      0.97       985\n",
      "           9       0.97      0.97      0.97      1008\n",
      "\n",
      "    accuracy                           0.97     10000\n",
      "   macro avg       0.97      0.97      0.97     10000\n",
      "weighted avg       0.97      0.97      0.97     10000\n",
      "\n"
     ]
    }
   ],
   "source": [
    "cache = feed_forward(X_test, params)\n",
    "predictions = np.argmax(cache[\"A2\"], axis=0)\n",
    "labels = np.argmax(Y_test, axis=0)\n",
    "\n",
    "print(classification_report(predictions, labels))"
   ]
  },
  {
   "cell_type": "markdown",
   "metadata": {},
   "source": [
    "# The Accuracy is 97% of the model with one fully connected layer, one hidden layer and softmax with mini batch gradient"
   ]
  }
 ],
 "metadata": {
  "kernelspec": {
   "display_name": "Python 3",
   "language": "python",
   "name": "python3"
  },
  "language_info": {
   "codemirror_mode": {
    "name": "ipython",
    "version": 3
   },
   "file_extension": ".py",
   "mimetype": "text/x-python",
   "name": "python",
   "nbconvert_exporter": "python",
   "pygments_lexer": "ipython3",
   "version": "3.6.9"
  }
 },
 "nbformat": 4,
 "nbformat_minor": 2
}
